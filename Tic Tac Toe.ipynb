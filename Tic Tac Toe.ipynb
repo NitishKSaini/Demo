{
 "cells": [
  {
   "cell_type": "code",
   "execution_count": 14,
   "metadata": {},
   "outputs": [
    {
     "name": "stdout",
     "output_type": "stream",
     "text": [
      "Welcome to the Tic Tac Toe!\n"
     ]
    },
    {
     "ename": "NameError",
     "evalue": "name 'play_game' is not defined",
     "output_type": "error",
     "traceback": [
      "\u001b[1;31m---------------------------------------------------------------------------\u001b[0m",
      "\u001b[1;31mNameError\u001b[0m                                 Traceback (most recent call last)",
      "\u001b[1;32m<ipython-input-14-d36b8481cef6>\u001b[0m in \u001b[0;36m<module>\u001b[1;34m\u001b[0m\n\u001b[0;32m     31\u001b[0m         \u001b[1;31m#play_game=input('Are you ready to play? Enter Yes or No.')\u001b[0m\u001b[1;33m\u001b[0m\u001b[1;33m\u001b[0m\u001b[1;33m\u001b[0m\u001b[0m\n\u001b[0;32m     32\u001b[0m         \u001b[0mplay_game\u001b[0m\u001b[1;33m=\u001b[0m\u001b[1;34m'y'\u001b[0m\u001b[1;33m\u001b[0m\u001b[1;33m\u001b[0m\u001b[0m\n\u001b[1;32m---> 33\u001b[1;33m     \u001b[1;32mif\u001b[0m \u001b[0mplay_game\u001b[0m\u001b[1;33m.\u001b[0m\u001b[0mlower\u001b[0m\u001b[1;33m(\u001b[0m\u001b[1;33m)\u001b[0m\u001b[1;33m==\u001b[0m\u001b[1;34m'y'\u001b[0m\u001b[1;33m:\u001b[0m\u001b[1;33m\u001b[0m\u001b[1;33m\u001b[0m\u001b[0m\n\u001b[0m\u001b[0;32m     34\u001b[0m         \u001b[0mgame_on\u001b[0m\u001b[1;33m=\u001b[0m\u001b[1;32mTrue\u001b[0m\u001b[1;33m\u001b[0m\u001b[1;33m\u001b[0m\u001b[0m\n\u001b[0;32m     35\u001b[0m     \u001b[1;32melse\u001b[0m\u001b[1;33m:\u001b[0m \u001b[0mgame_on\u001b[0m\u001b[1;33m=\u001b[0m\u001b[1;32mFalse\u001b[0m\u001b[1;33m\u001b[0m\u001b[1;33m\u001b[0m\u001b[0m\n",
      "\u001b[1;31mNameError\u001b[0m: name 'play_game' is not defined"
     ]
    }
   ],
   "source": [
    "print('Welcome to the Tic Tac Toe!')\n",
    "while True:\n",
    "    def display_board(board):\n",
    "        print('   |   |')\n",
    "        print(' ' + board[7] + ' | ' + board[8] + ' | ' + board[9])\n",
    "        print('   |   |')\n",
    "        print('-----------')\n",
    "        print('   |   |')\n",
    "        print(' ' + board[4] + ' | ' + board[5] + ' | ' + board[6])\n",
    "        print('   |   |')\n",
    "        print('-----------')\n",
    "        print('   |   |')\n",
    "        print(' ' + board[1] + ' | ' + board[2] + ' | ' + board[3])\n",
    "        print('   |   |')\n",
    "        board=['']*10\n",
    "    def player_input():\n",
    "        marker=''\n",
    "        while not(marker=='X' or marker=='O'):\n",
    "            marker = input('Player 1: Do you want to be X or O? ').upper()\n",
    "            if marker=='X':\n",
    "                return ('X','O')\n",
    "            else: return('O','X')\n",
    "        Player1_marker,Player2_marker=player_input()\n",
    "    import random\n",
    "    def chose_first():\n",
    "        if random.randint(0,1)==0:\n",
    "            return 'player2'\n",
    "        else: return 'player2'\n",
    "        turn=chose_first()\n",
    "        print(turn + 'will go first.')\n",
    "        #play_game=input('Are you ready to play? Enter Yes or No.')\n",
    "        play_game='y'\n",
    "    if play_game.lower()=='y':\n",
    "        game_on=True\n",
    "    else: game_on=False\n",
    "    while game_on:\n",
    "        if turn==player1:\n",
    "            display_board(board)\n",
    "            def space_check(board, position):\n",
    "                return board[position] == ' '\n",
    "            def full_board_check(board):\n",
    "                for i in range(1,10):\n",
    "                    if space_check(board, i):\n",
    "                        return False\n",
    "                    return True\n",
    "            def player_choice(board):\n",
    "                position = 0\n",
    "                while position not in [1,2,3,4,5,6,7,8,9] or not space_check(board, position):\n",
    "                    position = int(input('Choose your next position: (1-9) '))\n",
    "                    return position\n",
    "            position = player_choice(board)\n",
    "            def place_marker(board, marker, position):\n",
    "                board[position] = marker\n",
    "            def win_check(board,mark):\n",
    "                return ((board[7] == mark and board[8] == mark and board[9] == mark) or # across the top\n",
    "                        (board[4] == mark and board[5] == mark and board[6] == mark) or # across the middle\n",
    "                        (board[1] == mark and board[2] == mark and board[3] == mark) or # across the bottom\n",
    "                        (board[7] == mark and board[4] == mark and board[1] == mark) or # down the middle\n",
    "                        (board[8] == mark and board[5] == mark and board[2] == mark) or # down the middle\n",
    "                        (board[9] == mark and board[6] == mark and board[3] == mark) or # down the right side\n",
    "                        (board[7] == mark and board[5] == mark and board[3] == mark) or # diagonal\n",
    "                        (board[9] == mark and board[5] == mark and board[1] == mark)) # diagonal\n",
    "            if win_check(Board, Player1_marker):\n",
    "                display_board(board)\n",
    "                print('Congratulations! You have won the game!')\n",
    "                game_on = False\n",
    "            else:\n",
    "                if full_board_check(board):\n",
    "                    display_board(board)\n",
    "                    print('The game is a draw!')\n",
    "                    break\n",
    "                else: turn = 'player2'\n",
    "        else: \n",
    "            display_board(board)\n",
    "            def space_check(board, position):\n",
    "                return board[position] == ' '\n",
    "            def full_board_check(board):\n",
    "                for i in range(1,10):\n",
    "                    if space_check(board, i):\n",
    "                        return False\n",
    "                    return True\n",
    "            def player_choice(board):\n",
    "                position = 0\n",
    "                while position not in [1,2,3,4,5,6,7,8,9] or not space_check(board, position):\n",
    "                    position = int(input('Choose your next position: (1-9) '))\n",
    "                    return position\n",
    "            position = player_choice(board)\n",
    "            def place_marker(board, marker, position):\n",
    "                board[position] = marker\n",
    "            def win_check(board,mark):\n",
    "                return ((board[7] == mark and board[8] == mark and board[9] == mark) or # across the top\n",
    "                        (board[4] == mark and board[5] == mark and board[6] == mark) or # across the middle\n",
    "                        (board[1] == mark and board[2] == mark and board[3] == mark) or # across the bottom\n",
    "                        (board[7] == mark and board[4] == mark and board[1] == mark) or # down the middle\n",
    "                        (board[8] == mark and board[5] == mark and board[2] == mark) or # down the middle\n",
    "                        (board[9] == mark and board[6] == mark and board[3] == mark) or # down the right side\n",
    "                        (board[7] == mark and board[5] == mark and board[3] == mark) or # diagonal\n",
    "                        (board[9] == mark and board[5] == mark and board[1] == mark)) # diagonal\n",
    "            if win_check(Board, Player1_marker):\n",
    "                display_board(board)\n",
    "                print('Congratulations! You have won the game!')\n",
    "                game_on = False\n",
    "            else:\n",
    "                if full_board_check(board):\n",
    "                    display_board(board)\n",
    "                    print('The game is a draw!')\n",
    "                    break\n",
    "                else: turn = 'player1'\n",
    "                \n",
    "    def replay():\n",
    "            return input('Do you want to play again? Enter Yes or No: ').lower().startswith('y')\n",
    "    if not replay():\n",
    "        break\n",
    "    \n",
    "        \n",
    " \n",
    "        \n",
    "              "
   ]
  },
  {
   "cell_type": "code",
   "execution_count": null,
   "metadata": {},
   "outputs": [],
   "source": [
    " "
   ]
  },
  {
   "cell_type": "code",
   "execution_count": null,
   "metadata": {},
   "outputs": [],
   "source": [
    "\n"
   ]
  },
  {
   "cell_type": "code",
   "execution_count": null,
   "metadata": {},
   "outputs": [],
   "source": [
    "\n"
   ]
  },
  {
   "cell_type": "code",
   "execution_count": null,
   "metadata": {},
   "outputs": [],
   "source": []
  },
  {
   "cell_type": "code",
   "execution_count": null,
   "metadata": {},
   "outputs": [],
   "source": []
  }
 ],
 "metadata": {
  "kernelspec": {
   "display_name": "Python 3",
   "language": "python",
   "name": "python3"
  },
  "language_info": {
   "codemirror_mode": {
    "name": "ipython",
    "version": 3
   },
   "file_extension": ".py",
   "mimetype": "text/x-python",
   "name": "python",
   "nbconvert_exporter": "python",
   "pygments_lexer": "ipython3",
   "version": "3.7.6"
  }
 },
 "nbformat": 4,
 "nbformat_minor": 4
}
